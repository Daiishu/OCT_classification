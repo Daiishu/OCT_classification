{
 "cells": [
  {
   "cell_type": "code",
   "execution_count": null,
   "metadata": {
    "collapsed": true
   },
   "outputs": [],
   "source": [
    "import os\n",
    "import numpy as np\n",
    "import matplotlib.pyplot as plt"
   ]
  },
  {
   "cell_type": "code",
   "execution_count": null,
   "outputs": [],
   "source": [
    "path = \"../OCT2017\"\n",
    "n_dict = {}\n",
    "CNV = []\n",
    "DME = []\n",
    "DRUSEN = []\n",
    "NORMAL = []\n",
    "labels = []\n",
    "for i in os.listdir(path):\n",
    "    if '.' not in i:\n",
    "        n_dict[i] = {}\n",
    "        labels.append(i)\n",
    "        for j in os.listdir('/'.join([path, i])):\n",
    "            if '.' not in j:\n",
    "                list = os.listdir('/'.join([path, i, j]))\n",
    "                new_list = [x for x in list if '.D' not in x]\n",
    "                n_dict[i].update({j: len(new_list)})\n",
    "                if j == \"CNV\":\n",
    "                    CNV.append(len(new_list))\n",
    "                elif j == \"DME\":\n",
    "                    DME.append(len(new_list))\n",
    "                elif j==\"DRUSEN\":\n",
    "                    DRUSEN.append(len(new_list))\n",
    "                else:\n",
    "                    NORMAL.append(len(new_list))\n",
    "\n",
    "fig = plt.figure()\n",
    "plt.bar(np.arange(4), n_dict['train'].values(), color='r')\n",
    "plt.xticks([0,1,2,3], n_dict['train'].keys())\n",
    "plt.ylabel(\"Liczba sampli\", fontweight ='bold')\n",
    "plt.xlabel(\"Klasy\", fontweight ='bold')\n",
    "plt.show()"
   ],
   "metadata": {
    "collapsed": false
   }
  },
  {
   "cell_type": "code",
   "execution_count": null,
   "outputs": [],
   "source": [
    "from tensorflow import keras\n",
    "from models.models import all_models\n",
    "\n",
    "model = all_models(version='firstt', image_size=(256, 256, 1))\n",
    "\n",
    "model.compile(optimizer=keras.optimizers.RMSprop(lr=0.0001),\n",
    "              loss='binary_crossentropy',\n",
    "              metrics=['accuracy'])\n",
    "\n",
    "model.summary()"
   ],
   "metadata": {
    "collapsed": false
   }
  },
  {
   "cell_type": "code",
   "execution_count": null,
   "outputs": [],
   "source": [
    "keras.utils.plot_model(model, to_file=\"my_model.png\", show_shapes=True)"
   ],
   "metadata": {
    "collapsed": false
   }
  },
  {
   "cell_type": "code",
   "execution_count": 4,
   "outputs": [
    {
     "name": "stdout",
     "output_type": "stream",
     "text": [
      "Found 34300 files belonging to 4 classes.\n",
      "Found 196 files belonging to 4 classes.\n",
      "Found 968 files belonging to 4 classes.\n"
     ]
    },
    {
     "name": "stderr",
     "output_type": "stream",
     "text": [
      "2022-12-12 21:13:37.670380: I tensorflow/core/grappler/optimizers/custom_graph_optimizer_registry.cc:114] Plugin optimizer for device_type GPU is enabled.\n"
     ]
    },
    {
     "name": "stdout",
     "output_type": "stream",
     "text": [
      "31/31 [==============================] - 2s 47ms/step - loss: 0.0218 - accuracy: 0.9876\n",
      "test loss, test acc: [0.021806679666042328, 0.9876033663749695]\n"
     ]
    }
   ],
   "source": [
    "from tensorflow import keras\n",
    "from prepare_data.data_loader import load_data_using_keras\n",
    "\n",
    "train_ds, val_ds, test_ds = load_data_using_keras(path='../', path_to_original_dataset=\"../OCT2017\",\n",
    "                                                  generate_new_data=False, im_size=(256, 256), val_size=50)\n",
    "\n",
    "my_model = keras.models.load_model('../first')\n",
    "\n",
    "results = my_model.evaluate(test_ds)\n",
    "\n",
    "print(\"test loss, test acc:\", results)"
   ],
   "metadata": {
    "collapsed": false
   }
  },
  {
   "cell_type": "code",
   "execution_count": null,
   "outputs": [],
   "source": [],
   "metadata": {
    "collapsed": false
   }
  }
 ],
 "metadata": {
  "kernelspec": {
   "display_name": "Python 3",
   "language": "python",
   "name": "python3"
  },
  "language_info": {
   "codemirror_mode": {
    "name": "ipython",
    "version": 2
   },
   "file_extension": ".py",
   "mimetype": "text/x-python",
   "name": "python",
   "nbconvert_exporter": "python",
   "pygments_lexer": "ipython2",
   "version": "2.7.6"
  }
 },
 "nbformat": 4,
 "nbformat_minor": 0
}
